{
 "cells": [
  {
   "cell_type": "code",
   "execution_count": 1,
   "metadata": {
    "ExecuteTime": {
     "end_time": "2020-09-10T16:01:09.263365Z",
     "start_time": "2020-09-10T16:00:58.422134Z"
    }
   },
   "outputs": [],
   "source": [
    "import requests\n",
    "import pandas as pd\n",
    "import numpy as np\n",
    "from itertools import combinations \n",
    "from itertools import permutations \n",
    "%matplotlib inline"
   ]
  },
  {
   "cell_type": "code",
   "execution_count": 2,
   "metadata": {
    "ExecuteTime": {
     "end_time": "2020-09-10T16:01:09.283412Z",
     "start_time": "2020-09-10T16:01:09.263365Z"
    }
   },
   "outputs": [],
   "source": [
    "url = 'https://fantasy.premierleague.com/api/bootstrap-static/'"
   ]
  },
  {
   "cell_type": "code",
   "execution_count": 3,
   "metadata": {
    "ExecuteTime": {
     "end_time": "2020-09-10T16:01:09.997382Z",
     "start_time": "2020-09-10T16:01:09.284408Z"
    }
   },
   "outputs": [],
   "source": [
    "r = requests.get(url)"
   ]
  },
  {
   "cell_type": "code",
   "execution_count": 4,
   "metadata": {
    "ExecuteTime": {
     "end_time": "2020-09-10T16:01:10.046655Z",
     "start_time": "2020-09-10T16:01:09.998379Z"
    }
   },
   "outputs": [],
   "source": [
    "json = r.json()"
   ]
  },
  {
   "cell_type": "code",
   "execution_count": 5,
   "metadata": {
    "ExecuteTime": {
     "end_time": "2020-09-10T16:01:10.165445Z",
     "start_time": "2020-09-10T16:01:10.048652Z"
    }
   },
   "outputs": [
    {
     "data": {
      "text/plain": [
       "dict_keys(['events', 'game_settings', 'phases', 'teams', 'total_players', 'elements', 'element_stats', 'element_types'])"
      ]
     },
     "execution_count": 5,
     "metadata": {},
     "output_type": "execute_result"
    }
   ],
   "source": [
    "json.keys()"
   ]
  },
  {
   "cell_type": "code",
   "execution_count": 6,
   "metadata": {
    "ExecuteTime": {
     "end_time": "2020-09-10T16:01:12.466008Z",
     "start_time": "2020-09-10T16:01:10.167679Z"
    }
   },
   "outputs": [],
   "source": [
    "elements_df = pd.DataFrame(json['elements'])\n",
    "elements_type_df = pd.DataFrame(json['element_types'])\n",
    "teams_df = pd.DataFrame(json['teams'])\n",
    "phases = pd.DataFrame(json['phases'])\n",
    "element_stats = pd.DataFrame(json['element_stats'])\n",
    "events = pd.DataFrame(json['events'])\n",
    "fixtures = pd.read_json('https://fantasy.premierleague.com/api/fixtures/')"
   ]
  },
  {
   "cell_type": "markdown",
   "metadata": {
    "ExecuteTime": {
     "end_time": "2020-09-01T17:40:24.937149Z",
     "start_time": "2020-09-01T17:40:24.880855Z"
    }
   },
   "source": [
    "elements_df.to_csv('Elements.csv')\n",
    "teams_df.to_csv('Teams.csv')\n",
    "phases.to_csv('Phases.csv')\n",
    "element_stats.to_csv('Element_Stats.csv')\n",
    "events.to_csv('Events.csv')\n",
    "fixtures.to_csv('Fixtures.csv')\n",
    "elements_type_df.to_csv('Elements_Type.csv')"
   ]
  },
  {
   "cell_type": "code",
   "execution_count": 7,
   "metadata": {
    "ExecuteTime": {
     "end_time": "2020-09-10T16:01:12.511548Z",
     "start_time": "2020-09-10T16:01:12.466008Z"
    }
   },
   "outputs": [],
   "source": [
    "teams_df = teams_df.set_index('id')\n",
    "fixtures['team_a'] = fixtures['team_a'].map(teams_df['name'])\n",
    "fixtures['team_h'] = fixtures['team_h'].map(teams_df['name'])"
   ]
  },
  {
   "cell_type": "code",
   "execution_count": 8,
   "metadata": {
    "ExecuteTime": {
     "end_time": "2020-09-10T16:01:12.613500Z",
     "start_time": "2020-09-10T16:01:12.511548Z"
    }
   },
   "outputs": [],
   "source": [
    "slim_elements_df = elements_df[['code','second_name','team','element_type','selected_by_percent','now_cost','minutes','transfers_in','value_season','total_points','form','status']]"
   ]
  },
  {
   "cell_type": "code",
   "execution_count": 9,
   "metadata": {
    "ExecuteTime": {
     "end_time": "2020-09-10T16:01:12.752404Z",
     "start_time": "2020-09-10T16:01:12.614498Z"
    }
   },
   "outputs": [
    {
     "name": "stderr",
     "output_type": "stream",
     "text": [
      "C:\\ProgramData\\Anaconda3\\lib\\site-packages\\ipykernel_launcher.py:2: SettingWithCopyWarning: \n",
      "A value is trying to be set on a copy of a slice from a DataFrame.\n",
      "Try using .loc[row_indexer,col_indexer] = value instead\n",
      "\n",
      "See the caveats in the documentation: http://pandas.pydata.org/pandas-docs/stable/indexing.html#indexing-view-versus-copy\n",
      "  \n"
     ]
    }
   ],
   "source": [
    "elements_type_df = elements_type_df.set_index('id')\n",
    "slim_elements_df['position'] = slim_elements_df['element_type'].map(elements_type_df['singular_name'])"
   ]
  },
  {
   "cell_type": "code",
   "execution_count": 10,
   "metadata": {
    "ExecuteTime": {
     "end_time": "2020-09-10T16:01:12.876468Z",
     "start_time": "2020-09-10T16:01:12.753402Z"
    }
   },
   "outputs": [
    {
     "name": "stderr",
     "output_type": "stream",
     "text": [
      "C:\\ProgramData\\Anaconda3\\lib\\site-packages\\ipykernel_launcher.py:1: SettingWithCopyWarning: \n",
      "A value is trying to be set on a copy of a slice from a DataFrame.\n",
      "Try using .loc[row_indexer,col_indexer] = value instead\n",
      "\n",
      "See the caveats in the documentation: http://pandas.pydata.org/pandas-docs/stable/indexing.html#indexing-view-versus-copy\n",
      "  \"\"\"Entry point for launching an IPython kernel.\n"
     ]
    }
   ],
   "source": [
    "slim_elements_df['team_name'] = slim_elements_df['team'].map(teams_df['name'])"
   ]
  },
  {
   "cell_type": "markdown",
   "metadata": {},
   "source": [
    "PPM : Points per minute."
   ]
  },
  {
   "cell_type": "code",
   "execution_count": 11,
   "metadata": {
    "ExecuteTime": {
     "end_time": "2020-09-10T16:01:14.080884Z",
     "start_time": "2020-09-10T16:01:12.880782Z"
    }
   },
   "outputs": [
    {
     "name": "stderr",
     "output_type": "stream",
     "text": [
      "C:\\ProgramData\\Anaconda3\\lib\\site-packages\\ipykernel_launcher.py:1: SettingWithCopyWarning: \n",
      "A value is trying to be set on a copy of a slice from a DataFrame.\n",
      "Try using .loc[row_indexer,col_indexer] = value instead\n",
      "\n",
      "See the caveats in the documentation: http://pandas.pydata.org/pandas-docs/stable/indexing.html#indexing-view-versus-copy\n",
      "  \"\"\"Entry point for launching an IPython kernel.\n",
      "C:\\ProgramData\\Anaconda3\\lib\\site-packages\\ipykernel_launcher.py:2: SettingWithCopyWarning: \n",
      "A value is trying to be set on a copy of a slice from a DataFrame.\n",
      "Try using .loc[row_indexer,col_indexer] = value instead\n",
      "\n",
      "See the caveats in the documentation: http://pandas.pydata.org/pandas-docs/stable/indexing.html#indexing-view-versus-copy\n",
      "  \n"
     ]
    }
   ],
   "source": [
    "slim_elements_df['PPM'] = slim_elements_df['total_points'] / slim_elements_df['minutes']\n",
    "slim_elements_df[\"PPM\"] = slim_elements_df[\"PPM\"].fillna(0)"
   ]
  },
  {
   "cell_type": "code",
   "execution_count": 12,
   "metadata": {
    "ExecuteTime": {
     "end_time": "2020-09-10T16:01:14.273516Z",
     "start_time": "2020-09-10T16:01:14.086264Z"
    }
   },
   "outputs": [
    {
     "data": {
      "text/html": [
       "<div>\n",
       "<style scoped>\n",
       "    .dataframe tbody tr th:only-of-type {\n",
       "        vertical-align: middle;\n",
       "    }\n",
       "\n",
       "    .dataframe tbody tr th {\n",
       "        vertical-align: top;\n",
       "    }\n",
       "\n",
       "    .dataframe thead th {\n",
       "        text-align: right;\n",
       "    }\n",
       "</style>\n",
       "<table border=\"1\" class=\"dataframe\">\n",
       "  <thead>\n",
       "    <tr style=\"text-align: right;\">\n",
       "      <th></th>\n",
       "      <th>code</th>\n",
       "      <th>second_name</th>\n",
       "      <th>team</th>\n",
       "      <th>element_type</th>\n",
       "      <th>selected_by_percent</th>\n",
       "      <th>now_cost</th>\n",
       "      <th>minutes</th>\n",
       "      <th>transfers_in</th>\n",
       "      <th>value_season</th>\n",
       "      <th>total_points</th>\n",
       "      <th>form</th>\n",
       "      <th>status</th>\n",
       "      <th>position</th>\n",
       "      <th>team_name</th>\n",
       "      <th>PPM</th>\n",
       "    </tr>\n",
       "  </thead>\n",
       "  <tbody>\n",
       "    <tr>\n",
       "      <th>0</th>\n",
       "      <td>37605</td>\n",
       "      <td>Özil</td>\n",
       "      <td>1</td>\n",
       "      <td>3</td>\n",
       "      <td>1.7</td>\n",
       "      <td>70</td>\n",
       "      <td>1439</td>\n",
       "      <td>0</td>\n",
       "      <td>7.6</td>\n",
       "      <td>53</td>\n",
       "      <td>0.0</td>\n",
       "      <td>a</td>\n",
       "      <td>Midfielder</td>\n",
       "      <td>Arsenal</td>\n",
       "      <td>0.036831</td>\n",
       "    </tr>\n",
       "    <tr>\n",
       "      <th>1</th>\n",
       "      <td>39476</td>\n",
       "      <td>Papastathopoulos</td>\n",
       "      <td>1</td>\n",
       "      <td>2</td>\n",
       "      <td>0.4</td>\n",
       "      <td>50</td>\n",
       "      <td>1696</td>\n",
       "      <td>0</td>\n",
       "      <td>11.4</td>\n",
       "      <td>57</td>\n",
       "      <td>0.0</td>\n",
       "      <td>a</td>\n",
       "      <td>Defender</td>\n",
       "      <td>Arsenal</td>\n",
       "      <td>0.033608</td>\n",
       "    </tr>\n",
       "    <tr>\n",
       "      <th>2</th>\n",
       "      <td>41270</td>\n",
       "      <td>Luiz Moreira Marinho</td>\n",
       "      <td>1</td>\n",
       "      <td>2</td>\n",
       "      <td>2.7</td>\n",
       "      <td>55</td>\n",
       "      <td>2809</td>\n",
       "      <td>0</td>\n",
       "      <td>17.1</td>\n",
       "      <td>94</td>\n",
       "      <td>0.0</td>\n",
       "      <td>d</td>\n",
       "      <td>Defender</td>\n",
       "      <td>Arsenal</td>\n",
       "      <td>0.033464</td>\n",
       "    </tr>\n",
       "    <tr>\n",
       "      <th>3</th>\n",
       "      <td>54694</td>\n",
       "      <td>Aubameyang</td>\n",
       "      <td>1</td>\n",
       "      <td>3</td>\n",
       "      <td>44.9</td>\n",
       "      <td>120</td>\n",
       "      <td>3136</td>\n",
       "      <td>0</td>\n",
       "      <td>17.1</td>\n",
       "      <td>205</td>\n",
       "      <td>0.0</td>\n",
       "      <td>a</td>\n",
       "      <td>Midfielder</td>\n",
       "      <td>Arsenal</td>\n",
       "      <td>0.065370</td>\n",
       "    </tr>\n",
       "    <tr>\n",
       "      <th>4</th>\n",
       "      <td>58822</td>\n",
       "      <td>Soares</td>\n",
       "      <td>1</td>\n",
       "      <td>2</td>\n",
       "      <td>0.6</td>\n",
       "      <td>50</td>\n",
       "      <td>1553</td>\n",
       "      <td>0</td>\n",
       "      <td>12.2</td>\n",
       "      <td>61</td>\n",
       "      <td>0.0</td>\n",
       "      <td>a</td>\n",
       "      <td>Defender</td>\n",
       "      <td>Arsenal</td>\n",
       "      <td>0.039279</td>\n",
       "    </tr>\n",
       "  </tbody>\n",
       "</table>\n",
       "</div>"
      ],
      "text/plain": [
       "    code           second_name  team  element_type selected_by_percent  \\\n",
       "0  37605                  Özil     1             3                 1.7   \n",
       "1  39476      Papastathopoulos     1             2                 0.4   \n",
       "2  41270  Luiz Moreira Marinho     1             2                 2.7   \n",
       "3  54694            Aubameyang     1             3                44.9   \n",
       "4  58822                Soares     1             2                 0.6   \n",
       "\n",
       "   now_cost  minutes  transfers_in value_season  total_points form status  \\\n",
       "0        70     1439             0          7.6            53  0.0      a   \n",
       "1        50     1696             0         11.4            57  0.0      a   \n",
       "2        55     2809             0         17.1            94  0.0      d   \n",
       "3       120     3136             0         17.1           205  0.0      a   \n",
       "4        50     1553             0         12.2            61  0.0      a   \n",
       "\n",
       "     position team_name       PPM  \n",
       "0  Midfielder   Arsenal  0.036831  \n",
       "1    Defender   Arsenal  0.033608  \n",
       "2    Defender   Arsenal  0.033464  \n",
       "3  Midfielder   Arsenal  0.065370  \n",
       "4    Defender   Arsenal  0.039279  "
      ]
     },
     "execution_count": 12,
     "metadata": {},
     "output_type": "execute_result"
    }
   ],
   "source": [
    "slim_elements_df.head(5)"
   ]
  },
  {
   "cell_type": "code",
   "execution_count": 13,
   "metadata": {
    "ExecuteTime": {
     "end_time": "2020-09-10T16:01:14.358790Z",
     "start_time": "2020-09-10T16:01:14.274513Z"
    }
   },
   "outputs": [
    {
     "name": "stdout",
     "output_type": "stream",
     "text": [
      "<class 'pandas.core.frame.DataFrame'>\n",
      "RangeIndex: 514 entries, 0 to 513\n",
      "Data columns (total 15 columns):\n",
      "code                   514 non-null int64\n",
      "second_name            514 non-null object\n",
      "team                   514 non-null int64\n",
      "element_type           514 non-null int64\n",
      "selected_by_percent    514 non-null object\n",
      "now_cost               514 non-null int64\n",
      "minutes                514 non-null int64\n",
      "transfers_in           514 non-null int64\n",
      "value_season           514 non-null object\n",
      "total_points           514 non-null int64\n",
      "form                   514 non-null object\n",
      "status                 514 non-null object\n",
      "position               514 non-null object\n",
      "team_name              514 non-null object\n",
      "PPM                    514 non-null float64\n",
      "dtypes: float64(1), int64(7), object(7)\n",
      "memory usage: 60.3+ KB\n"
     ]
    }
   ],
   "source": [
    "slim_elements_df.info()"
   ]
  },
  {
   "cell_type": "code",
   "execution_count": 14,
   "metadata": {
    "ExecuteTime": {
     "end_time": "2020-09-10T16:01:14.486214Z",
     "start_time": "2020-09-10T16:01:14.359786Z"
    }
   },
   "outputs": [
    {
     "name": "stderr",
     "output_type": "stream",
     "text": [
      "C:\\ProgramData\\Anaconda3\\lib\\site-packages\\ipykernel_launcher.py:1: SettingWithCopyWarning: \n",
      "A value is trying to be set on a copy of a slice from a DataFrame.\n",
      "Try using .loc[row_indexer,col_indexer] = value instead\n",
      "\n",
      "See the caveats in the documentation: http://pandas.pydata.org/pandas-docs/stable/indexing.html#indexing-view-versus-copy\n",
      "  \"\"\"Entry point for launching an IPython kernel.\n"
     ]
    }
   ],
   "source": [
    "slim_elements_df['ROI'] = slim_elements_df['value_season'].astype(float)"
   ]
  },
  {
   "cell_type": "markdown",
   "metadata": {},
   "source": [
    "ROI is simply calculated by dividing total_points by now_cost"
   ]
  },
  {
   "cell_type": "code",
   "execution_count": 15,
   "metadata": {
    "ExecuteTime": {
     "end_time": "2020-09-10T16:01:14.672639Z",
     "start_time": "2020-09-10T16:01:14.490498Z"
    }
   },
   "outputs": [
    {
     "data": {
      "text/html": [
       "<div>\n",
       "<style scoped>\n",
       "    .dataframe tbody tr th:only-of-type {\n",
       "        vertical-align: middle;\n",
       "    }\n",
       "\n",
       "    .dataframe tbody tr th {\n",
       "        vertical-align: top;\n",
       "    }\n",
       "\n",
       "    .dataframe thead th {\n",
       "        text-align: right;\n",
       "    }\n",
       "</style>\n",
       "<table border=\"1\" class=\"dataframe\">\n",
       "  <thead>\n",
       "    <tr style=\"text-align: right;\">\n",
       "      <th></th>\n",
       "      <th>code</th>\n",
       "      <th>second_name</th>\n",
       "      <th>team</th>\n",
       "      <th>element_type</th>\n",
       "      <th>selected_by_percent</th>\n",
       "      <th>now_cost</th>\n",
       "      <th>minutes</th>\n",
       "      <th>transfers_in</th>\n",
       "      <th>value_season</th>\n",
       "      <th>total_points</th>\n",
       "      <th>form</th>\n",
       "      <th>status</th>\n",
       "      <th>position</th>\n",
       "      <th>team_name</th>\n",
       "      <th>PPM</th>\n",
       "      <th>ROI</th>\n",
       "    </tr>\n",
       "  </thead>\n",
       "  <tbody>\n",
       "    <tr>\n",
       "      <th>100</th>\n",
       "      <td>98747</td>\n",
       "      <td>Pope</td>\n",
       "      <td>4</td>\n",
       "      <td>1</td>\n",
       "      <td>20.4</td>\n",
       "      <td>55</td>\n",
       "      <td>3420</td>\n",
       "      <td>0</td>\n",
       "      <td>30.9</td>\n",
       "      <td>170</td>\n",
       "      <td>0.0</td>\n",
       "      <td>a</td>\n",
       "      <td>Goalkeeper</td>\n",
       "      <td>Burnley</td>\n",
       "      <td>0.049708</td>\n",
       "      <td>30.9</td>\n",
       "    </tr>\n",
       "    <tr>\n",
       "      <th>73</th>\n",
       "      <td>131897</td>\n",
       "      <td>Ryan</td>\n",
       "      <td>3</td>\n",
       "      <td>1</td>\n",
       "      <td>21.0</td>\n",
       "      <td>45</td>\n",
       "      <td>3420</td>\n",
       "      <td>0</td>\n",
       "      <td>30.0</td>\n",
       "      <td>135</td>\n",
       "      <td>0.0</td>\n",
       "      <td>a</td>\n",
       "      <td>Goalkeeper</td>\n",
       "      <td>Brighton</td>\n",
       "      <td>0.039474</td>\n",
       "      <td>30.0</td>\n",
       "    </tr>\n",
       "    <tr>\n",
       "      <th>322</th>\n",
       "      <td>172649</td>\n",
       "      <td>Henderson</td>\n",
       "      <td>13</td>\n",
       "      <td>1</td>\n",
       "      <td>4.0</td>\n",
       "      <td>55</td>\n",
       "      <td>3240</td>\n",
       "      <td>0</td>\n",
       "      <td>29.1</td>\n",
       "      <td>160</td>\n",
       "      <td>0.0</td>\n",
       "      <td>a</td>\n",
       "      <td>Goalkeeper</td>\n",
       "      <td>Man Utd</td>\n",
       "      <td>0.049383</td>\n",
       "      <td>29.1</td>\n",
       "    </tr>\n",
       "    <tr>\n",
       "      <th>344</th>\n",
       "      <td>67089</td>\n",
       "      <td>Dubravka</td>\n",
       "      <td>14</td>\n",
       "      <td>1</td>\n",
       "      <td>0.8</td>\n",
       "      <td>50</td>\n",
       "      <td>3420</td>\n",
       "      <td>0</td>\n",
       "      <td>28.6</td>\n",
       "      <td>143</td>\n",
       "      <td>0.0</td>\n",
       "      <td>i</td>\n",
       "      <td>Goalkeeper</td>\n",
       "      <td>Newcastle</td>\n",
       "      <td>0.041813</td>\n",
       "      <td>28.6</td>\n",
       "    </tr>\n",
       "    <tr>\n",
       "      <th>209</th>\n",
       "      <td>17745</td>\n",
       "      <td>Schmeichel</td>\n",
       "      <td>9</td>\n",
       "      <td>1</td>\n",
       "      <td>13.7</td>\n",
       "      <td>55</td>\n",
       "      <td>3420</td>\n",
       "      <td>0</td>\n",
       "      <td>28.4</td>\n",
       "      <td>156</td>\n",
       "      <td>0.0</td>\n",
       "      <td>a</td>\n",
       "      <td>Goalkeeper</td>\n",
       "      <td>Leicester</td>\n",
       "      <td>0.045614</td>\n",
       "      <td>28.4</td>\n",
       "    </tr>\n",
       "    <tr>\n",
       "      <th>276</th>\n",
       "      <td>169187</td>\n",
       "      <td>Alexander-Arnold</td>\n",
       "      <td>11</td>\n",
       "      <td>2</td>\n",
       "      <td>54.6</td>\n",
       "      <td>75</td>\n",
       "      <td>3173</td>\n",
       "      <td>0</td>\n",
       "      <td>28.0</td>\n",
       "      <td>210</td>\n",
       "      <td>0.0</td>\n",
       "      <td>a</td>\n",
       "      <td>Defender</td>\n",
       "      <td>Liverpool</td>\n",
       "      <td>0.066183</td>\n",
       "      <td>28.0</td>\n",
       "    </tr>\n",
       "    <tr>\n",
       "      <th>491</th>\n",
       "      <td>38533</td>\n",
       "      <td>dos Santos Patrício</td>\n",
       "      <td>20</td>\n",
       "      <td>1</td>\n",
       "      <td>6.8</td>\n",
       "      <td>55</td>\n",
       "      <td>3420</td>\n",
       "      <td>0</td>\n",
       "      <td>27.8</td>\n",
       "      <td>153</td>\n",
       "      <td>0.0</td>\n",
       "      <td>a</td>\n",
       "      <td>Goalkeeper</td>\n",
       "      <td>Wolves</td>\n",
       "      <td>0.044737</td>\n",
       "      <td>27.8</td>\n",
       "    </tr>\n",
       "    <tr>\n",
       "      <th>438</th>\n",
       "      <td>87835</td>\n",
       "      <td>Doherty</td>\n",
       "      <td>17</td>\n",
       "      <td>2</td>\n",
       "      <td>26.2</td>\n",
       "      <td>60</td>\n",
       "      <td>2836</td>\n",
       "      <td>0</td>\n",
       "      <td>27.8</td>\n",
       "      <td>167</td>\n",
       "      <td>0.0</td>\n",
       "      <td>a</td>\n",
       "      <td>Defender</td>\n",
       "      <td>Spurs</td>\n",
       "      <td>0.058886</td>\n",
       "      <td>27.8</td>\n",
       "    </tr>\n",
       "    <tr>\n",
       "      <th>135</th>\n",
       "      <td>40836</td>\n",
       "      <td>Guaita</td>\n",
       "      <td>6</td>\n",
       "      <td>1</td>\n",
       "      <td>1.6</td>\n",
       "      <td>50</td>\n",
       "      <td>3150</td>\n",
       "      <td>0</td>\n",
       "      <td>27.4</td>\n",
       "      <td>137</td>\n",
       "      <td>0.0</td>\n",
       "      <td>a</td>\n",
       "      <td>Goalkeeper</td>\n",
       "      <td>Crystal Palace</td>\n",
       "      <td>0.043492</td>\n",
       "      <td>27.4</td>\n",
       "    </tr>\n",
       "    <tr>\n",
       "      <th>267</th>\n",
       "      <td>97032</td>\n",
       "      <td>van Dijk</td>\n",
       "      <td>11</td>\n",
       "      <td>2</td>\n",
       "      <td>25.8</td>\n",
       "      <td>65</td>\n",
       "      <td>3420</td>\n",
       "      <td>0</td>\n",
       "      <td>27.4</td>\n",
       "      <td>178</td>\n",
       "      <td>0.0</td>\n",
       "      <td>a</td>\n",
       "      <td>Defender</td>\n",
       "      <td>Liverpool</td>\n",
       "      <td>0.052047</td>\n",
       "      <td>27.4</td>\n",
       "    </tr>\n",
       "  </tbody>\n",
       "</table>\n",
       "</div>"
      ],
      "text/plain": [
       "       code          second_name  team  element_type selected_by_percent  \\\n",
       "100   98747                 Pope     4             1                20.4   \n",
       "73   131897                 Ryan     3             1                21.0   \n",
       "322  172649            Henderson    13             1                 4.0   \n",
       "344   67089             Dubravka    14             1                 0.8   \n",
       "209   17745           Schmeichel     9             1                13.7   \n",
       "276  169187     Alexander-Arnold    11             2                54.6   \n",
       "491   38533  dos Santos Patrício    20             1                 6.8   \n",
       "438   87835              Doherty    17             2                26.2   \n",
       "135   40836               Guaita     6             1                 1.6   \n",
       "267   97032             van Dijk    11             2                25.8   \n",
       "\n",
       "     now_cost  minutes  transfers_in value_season  total_points form status  \\\n",
       "100        55     3420             0         30.9           170  0.0      a   \n",
       "73         45     3420             0         30.0           135  0.0      a   \n",
       "322        55     3240             0         29.1           160  0.0      a   \n",
       "344        50     3420             0         28.6           143  0.0      i   \n",
       "209        55     3420             0         28.4           156  0.0      a   \n",
       "276        75     3173             0         28.0           210  0.0      a   \n",
       "491        55     3420             0         27.8           153  0.0      a   \n",
       "438        60     2836             0         27.8           167  0.0      a   \n",
       "135        50     3150             0         27.4           137  0.0      a   \n",
       "267        65     3420             0         27.4           178  0.0      a   \n",
       "\n",
       "       position       team_name       PPM   ROI  \n",
       "100  Goalkeeper         Burnley  0.049708  30.9  \n",
       "73   Goalkeeper        Brighton  0.039474  30.0  \n",
       "322  Goalkeeper         Man Utd  0.049383  29.1  \n",
       "344  Goalkeeper       Newcastle  0.041813  28.6  \n",
       "209  Goalkeeper       Leicester  0.045614  28.4  \n",
       "276    Defender       Liverpool  0.066183  28.0  \n",
       "491  Goalkeeper          Wolves  0.044737  27.8  \n",
       "438    Defender           Spurs  0.058886  27.8  \n",
       "135  Goalkeeper  Crystal Palace  0.043492  27.4  \n",
       "267    Defender       Liverpool  0.052047  27.4  "
      ]
     },
     "execution_count": 15,
     "metadata": {},
     "output_type": "execute_result"
    }
   ],
   "source": [
    "slim_elements_df.sort_values('ROI',ascending=False).head(10)"
   ]
  },
  {
   "cell_type": "code",
   "execution_count": 16,
   "metadata": {
    "ExecuteTime": {
     "end_time": "2020-09-10T16:01:14.809272Z",
     "start_time": "2020-09-10T16:01:14.673636Z"
    }
   },
   "outputs": [
    {
     "data": {
      "text/html": [
       "<div>\n",
       "<style scoped>\n",
       "    .dataframe tbody tr th:only-of-type {\n",
       "        vertical-align: middle;\n",
       "    }\n",
       "\n",
       "    .dataframe tbody tr th {\n",
       "        vertical-align: top;\n",
       "    }\n",
       "\n",
       "    .dataframe thead th {\n",
       "        text-align: right;\n",
       "    }\n",
       "</style>\n",
       "<table border=\"1\" class=\"dataframe\">\n",
       "  <thead>\n",
       "    <tr style=\"text-align: right;\">\n",
       "      <th></th>\n",
       "      <th>position</th>\n",
       "      <th>ROI</th>\n",
       "    </tr>\n",
       "  </thead>\n",
       "  <tbody>\n",
       "    <tr>\n",
       "      <th>0</th>\n",
       "      <td>Defender</td>\n",
       "      <td>9.212903</td>\n",
       "    </tr>\n",
       "    <tr>\n",
       "      <th>1</th>\n",
       "      <td>Forward</td>\n",
       "      <td>9.221538</td>\n",
       "    </tr>\n",
       "    <tr>\n",
       "      <th>2</th>\n",
       "      <td>Goalkeeper</td>\n",
       "      <td>9.496078</td>\n",
       "    </tr>\n",
       "    <tr>\n",
       "      <th>3</th>\n",
       "      <td>Midfielder</td>\n",
       "      <td>8.862264</td>\n",
       "    </tr>\n",
       "  </tbody>\n",
       "</table>\n",
       "</div>"
      ],
      "text/plain": [
       "     position       ROI\n",
       "0    Defender  9.212903\n",
       "1     Forward  9.221538\n",
       "2  Goalkeeper  9.496078\n",
       "3  Midfielder  8.862264"
      ]
     },
     "execution_count": 16,
     "metadata": {},
     "output_type": "execute_result"
    }
   ],
   "source": [
    "slim_elements_df.pivot_table(index='position',values='ROI').reset_index()"
   ]
  },
  {
   "cell_type": "code",
   "execution_count": 17,
   "metadata": {
    "ExecuteTime": {
     "end_time": "2020-09-10T16:01:14.941507Z",
     "start_time": "2020-09-10T16:01:14.814194Z"
    }
   },
   "outputs": [
    {
     "data": {
      "text/html": [
       "<div>\n",
       "<style scoped>\n",
       "    .dataframe tbody tr th:only-of-type {\n",
       "        vertical-align: middle;\n",
       "    }\n",
       "\n",
       "    .dataframe tbody tr th {\n",
       "        vertical-align: top;\n",
       "    }\n",
       "\n",
       "    .dataframe thead th {\n",
       "        text-align: right;\n",
       "    }\n",
       "</style>\n",
       "<table border=\"1\" class=\"dataframe\">\n",
       "  <thead>\n",
       "    <tr style=\"text-align: right;\">\n",
       "      <th></th>\n",
       "      <th>position</th>\n",
       "      <th>ROI</th>\n",
       "    </tr>\n",
       "  </thead>\n",
       "  <tbody>\n",
       "    <tr>\n",
       "      <th>0</th>\n",
       "      <td>Defender</td>\n",
       "      <td>12.417391</td>\n",
       "    </tr>\n",
       "    <tr>\n",
       "      <th>1</th>\n",
       "      <td>Forward</td>\n",
       "      <td>11.752941</td>\n",
       "    </tr>\n",
       "    <tr>\n",
       "      <th>2</th>\n",
       "      <td>Goalkeeper</td>\n",
       "      <td>15.622581</td>\n",
       "    </tr>\n",
       "    <tr>\n",
       "      <th>3</th>\n",
       "      <td>Midfielder</td>\n",
       "      <td>11.318072</td>\n",
       "    </tr>\n",
       "  </tbody>\n",
       "</table>\n",
       "</div>"
      ],
      "text/plain": [
       "     position        ROI\n",
       "0    Defender  12.417391\n",
       "1     Forward  11.752941\n",
       "2  Goalkeeper  15.622581\n",
       "3  Midfielder  11.318072"
      ]
     },
     "execution_count": 17,
     "metadata": {},
     "output_type": "execute_result"
    }
   ],
   "source": [
    "slim_elements_df[slim_elements_df['minutes'] != 0].pivot_table(index='position',values='ROI').reset_index()"
   ]
  },
  {
   "cell_type": "code",
   "execution_count": 18,
   "metadata": {
    "ExecuteTime": {
     "end_time": "2020-09-10T16:01:15.171999Z",
     "start_time": "2020-09-10T16:01:14.942504Z"
    }
   },
   "outputs": [
    {
     "data": {
      "text/html": [
       "<div>\n",
       "<style scoped>\n",
       "    .dataframe tbody tr th:only-of-type {\n",
       "        vertical-align: middle;\n",
       "    }\n",
       "\n",
       "    .dataframe tbody tr th {\n",
       "        vertical-align: top;\n",
       "    }\n",
       "\n",
       "    .dataframe thead th {\n",
       "        text-align: right;\n",
       "    }\n",
       "</style>\n",
       "<table border=\"1\" class=\"dataframe\">\n",
       "  <thead>\n",
       "    <tr style=\"text-align: right;\">\n",
       "      <th></th>\n",
       "      <th>code</th>\n",
       "      <th>second_name</th>\n",
       "      <th>team</th>\n",
       "      <th>element_type</th>\n",
       "      <th>selected_by_percent</th>\n",
       "      <th>now_cost</th>\n",
       "      <th>minutes</th>\n",
       "      <th>transfers_in</th>\n",
       "      <th>value_season</th>\n",
       "      <th>total_points</th>\n",
       "      <th>form</th>\n",
       "      <th>status</th>\n",
       "      <th>position</th>\n",
       "      <th>team_name</th>\n",
       "      <th>PPM</th>\n",
       "      <th>ROI</th>\n",
       "    </tr>\n",
       "  </thead>\n",
       "  <tbody>\n",
       "    <tr>\n",
       "      <th>0</th>\n",
       "      <td>37605</td>\n",
       "      <td>Özil</td>\n",
       "      <td>1</td>\n",
       "      <td>3</td>\n",
       "      <td>1.7</td>\n",
       "      <td>70</td>\n",
       "      <td>1439</td>\n",
       "      <td>0</td>\n",
       "      <td>7.6</td>\n",
       "      <td>53</td>\n",
       "      <td>0.0</td>\n",
       "      <td>a</td>\n",
       "      <td>Midfielder</td>\n",
       "      <td>Arsenal</td>\n",
       "      <td>0.036831</td>\n",
       "      <td>7.6</td>\n",
       "    </tr>\n",
       "    <tr>\n",
       "      <th>1</th>\n",
       "      <td>39476</td>\n",
       "      <td>Papastathopoulos</td>\n",
       "      <td>1</td>\n",
       "      <td>2</td>\n",
       "      <td>0.4</td>\n",
       "      <td>50</td>\n",
       "      <td>1696</td>\n",
       "      <td>0</td>\n",
       "      <td>11.4</td>\n",
       "      <td>57</td>\n",
       "      <td>0.0</td>\n",
       "      <td>a</td>\n",
       "      <td>Defender</td>\n",
       "      <td>Arsenal</td>\n",
       "      <td>0.033608</td>\n",
       "      <td>11.4</td>\n",
       "    </tr>\n",
       "    <tr>\n",
       "      <th>2</th>\n",
       "      <td>41270</td>\n",
       "      <td>Luiz Moreira Marinho</td>\n",
       "      <td>1</td>\n",
       "      <td>2</td>\n",
       "      <td>2.7</td>\n",
       "      <td>55</td>\n",
       "      <td>2809</td>\n",
       "      <td>0</td>\n",
       "      <td>17.1</td>\n",
       "      <td>94</td>\n",
       "      <td>0.0</td>\n",
       "      <td>d</td>\n",
       "      <td>Defender</td>\n",
       "      <td>Arsenal</td>\n",
       "      <td>0.033464</td>\n",
       "      <td>17.1</td>\n",
       "    </tr>\n",
       "    <tr>\n",
       "      <th>3</th>\n",
       "      <td>54694</td>\n",
       "      <td>Aubameyang</td>\n",
       "      <td>1</td>\n",
       "      <td>3</td>\n",
       "      <td>44.9</td>\n",
       "      <td>120</td>\n",
       "      <td>3136</td>\n",
       "      <td>0</td>\n",
       "      <td>17.1</td>\n",
       "      <td>205</td>\n",
       "      <td>0.0</td>\n",
       "      <td>a</td>\n",
       "      <td>Midfielder</td>\n",
       "      <td>Arsenal</td>\n",
       "      <td>0.065370</td>\n",
       "      <td>17.1</td>\n",
       "    </tr>\n",
       "    <tr>\n",
       "      <th>4</th>\n",
       "      <td>58822</td>\n",
       "      <td>Soares</td>\n",
       "      <td>1</td>\n",
       "      <td>2</td>\n",
       "      <td>0.6</td>\n",
       "      <td>50</td>\n",
       "      <td>1553</td>\n",
       "      <td>0</td>\n",
       "      <td>12.2</td>\n",
       "      <td>61</td>\n",
       "      <td>0.0</td>\n",
       "      <td>a</td>\n",
       "      <td>Defender</td>\n",
       "      <td>Arsenal</td>\n",
       "      <td>0.039279</td>\n",
       "      <td>12.2</td>\n",
       "    </tr>\n",
       "  </tbody>\n",
       "</table>\n",
       "</div>"
      ],
      "text/plain": [
       "    code           second_name  team  element_type selected_by_percent  \\\n",
       "0  37605                  Özil     1             3                 1.7   \n",
       "1  39476      Papastathopoulos     1             2                 0.4   \n",
       "2  41270  Luiz Moreira Marinho     1             2                 2.7   \n",
       "3  54694            Aubameyang     1             3                44.9   \n",
       "4  58822                Soares     1             2                 0.6   \n",
       "\n",
       "   now_cost  minutes  transfers_in value_season  total_points form status  \\\n",
       "0        70     1439             0          7.6            53  0.0      a   \n",
       "1        50     1696             0         11.4            57  0.0      a   \n",
       "2        55     2809             0         17.1            94  0.0      d   \n",
       "3       120     3136             0         17.1           205  0.0      a   \n",
       "4        50     1553             0         12.2            61  0.0      a   \n",
       "\n",
       "     position team_name       PPM   ROI  \n",
       "0  Midfielder   Arsenal  0.036831   7.6  \n",
       "1    Defender   Arsenal  0.033608  11.4  \n",
       "2    Defender   Arsenal  0.033464  17.1  \n",
       "3  Midfielder   Arsenal  0.065370  17.1  \n",
       "4    Defender   Arsenal  0.039279  12.2  "
      ]
     },
     "execution_count": 18,
     "metadata": {},
     "output_type": "execute_result"
    }
   ],
   "source": [
    "slim_elements_df.head(5)"
   ]
  },
  {
   "cell_type": "code",
   "execution_count": 19,
   "metadata": {
    "ExecuteTime": {
     "end_time": "2020-09-10T16:01:15.336896Z",
     "start_time": "2020-09-10T16:01:15.171999Z"
    }
   },
   "outputs": [],
   "source": [
    "total_players = slim_elements_df['team_name'].value_counts().reset_index(name='Number of Players')"
   ]
  },
  {
   "cell_type": "code",
   "execution_count": 20,
   "metadata": {
    "ExecuteTime": {
     "end_time": "2020-09-10T16:01:15.474647Z",
     "start_time": "2020-09-10T16:01:15.336896Z"
    }
   },
   "outputs": [],
   "source": [
    "total_players = total_players.rename(columns={'index':'team_name'})"
   ]
  },
  {
   "cell_type": "code",
   "execution_count": 21,
   "metadata": {
    "ExecuteTime": {
     "end_time": "2020-09-10T16:01:15.720940Z",
     "start_time": "2020-09-10T16:01:15.482526Z"
    }
   },
   "outputs": [],
   "source": [
    "temp = slim_elements_df.pivot_table(index=['team_name','position'],values='ROI').reset_index().sort_values('ROI',ascending=False)\n",
    "temp = temp.pivot_table('ROI', ['team_name'], 'position').reset_index()"
   ]
  },
  {
   "cell_type": "code",
   "execution_count": 22,
   "metadata": {
    "ExecuteTime": {
     "end_time": "2020-09-10T16:01:15.879061Z",
     "start_time": "2020-09-10T16:01:15.721937Z"
    }
   },
   "outputs": [
    {
     "data": {
      "text/html": [
       "<div>\n",
       "<style scoped>\n",
       "    .dataframe tbody tr th:only-of-type {\n",
       "        vertical-align: middle;\n",
       "    }\n",
       "\n",
       "    .dataframe tbody tr th {\n",
       "        vertical-align: top;\n",
       "    }\n",
       "\n",
       "    .dataframe thead th {\n",
       "        text-align: right;\n",
       "    }\n",
       "</style>\n",
       "<table border=\"1\" class=\"dataframe\">\n",
       "  <thead>\n",
       "    <tr style=\"text-align: right;\">\n",
       "      <th></th>\n",
       "      <th>team_name</th>\n",
       "      <th>Defender</th>\n",
       "      <th>Forward</th>\n",
       "      <th>Goalkeeper</th>\n",
       "      <th>Midfielder</th>\n",
       "    </tr>\n",
       "  </thead>\n",
       "  <tbody>\n",
       "    <tr>\n",
       "      <th>0</th>\n",
       "      <td>Arsenal</td>\n",
       "      <td>7.661538</td>\n",
       "      <td>9.050000</td>\n",
       "      <td>15.050000</td>\n",
       "      <td>10.592308</td>\n",
       "    </tr>\n",
       "    <tr>\n",
       "      <th>1</th>\n",
       "      <td>Aston Villa</td>\n",
       "      <td>9.450000</td>\n",
       "      <td>4.500000</td>\n",
       "      <td>5.700000</td>\n",
       "      <td>12.977778</td>\n",
       "    </tr>\n",
       "    <tr>\n",
       "      <th>2</th>\n",
       "      <td>Brighton</td>\n",
       "      <td>9.890000</td>\n",
       "      <td>9.875000</td>\n",
       "      <td>15.000000</td>\n",
       "      <td>9.225000</td>\n",
       "    </tr>\n",
       "    <tr>\n",
       "      <th>3</th>\n",
       "      <td>Burnley</td>\n",
       "      <td>14.562500</td>\n",
       "      <td>13.900000</td>\n",
       "      <td>15.450000</td>\n",
       "      <td>12.016667</td>\n",
       "    </tr>\n",
       "    <tr>\n",
       "      <th>4</th>\n",
       "      <td>Chelsea</td>\n",
       "      <td>11.650000</td>\n",
       "      <td>8.700000</td>\n",
       "      <td>10.300000</td>\n",
       "      <td>9.063636</td>\n",
       "    </tr>\n",
       "    <tr>\n",
       "      <th>5</th>\n",
       "      <td>Crystal Palace</td>\n",
       "      <td>10.233333</td>\n",
       "      <td>10.966667</td>\n",
       "      <td>14.500000</td>\n",
       "      <td>9.145455</td>\n",
       "    </tr>\n",
       "    <tr>\n",
       "      <th>6</th>\n",
       "      <td>Everton</td>\n",
       "      <td>11.457143</td>\n",
       "      <td>12.850000</td>\n",
       "      <td>7.800000</td>\n",
       "      <td>7.708333</td>\n",
       "    </tr>\n",
       "    <tr>\n",
       "      <th>7</th>\n",
       "      <td>Fulham</td>\n",
       "      <td>0.000000</td>\n",
       "      <td>0.000000</td>\n",
       "      <td>0.000000</td>\n",
       "      <td>0.000000</td>\n",
       "    </tr>\n",
       "    <tr>\n",
       "      <th>8</th>\n",
       "      <td>Leeds</td>\n",
       "      <td>0.000000</td>\n",
       "      <td>0.000000</td>\n",
       "      <td>0.000000</td>\n",
       "      <td>0.000000</td>\n",
       "    </tr>\n",
       "    <tr>\n",
       "      <th>9</th>\n",
       "      <td>Leicester</td>\n",
       "      <td>8.670000</td>\n",
       "      <td>15.850000</td>\n",
       "      <td>14.200000</td>\n",
       "      <td>11.236364</td>\n",
       "    </tr>\n",
       "    <tr>\n",
       "      <th>10</th>\n",
       "      <td>Liverpool</td>\n",
       "      <td>15.542857</td>\n",
       "      <td>9.366667</td>\n",
       "      <td>13.150000</td>\n",
       "      <td>11.253846</td>\n",
       "    </tr>\n",
       "    <tr>\n",
       "      <th>11</th>\n",
       "      <td>Man City</td>\n",
       "      <td>11.410000</td>\n",
       "      <td>14.000000</td>\n",
       "      <td>12.300000</td>\n",
       "      <td>12.766667</td>\n",
       "    </tr>\n",
       "    <tr>\n",
       "      <th>12</th>\n",
       "      <td>Man Utd</td>\n",
       "      <td>7.707692</td>\n",
       "      <td>11.950000</td>\n",
       "      <td>18.366667</td>\n",
       "      <td>8.842857</td>\n",
       "    </tr>\n",
       "    <tr>\n",
       "      <th>13</th>\n",
       "      <td>Newcastle</td>\n",
       "      <td>10.263636</td>\n",
       "      <td>9.700000</td>\n",
       "      <td>9.533333</td>\n",
       "      <td>10.825000</td>\n",
       "    </tr>\n",
       "    <tr>\n",
       "      <th>14</th>\n",
       "      <td>Sheffield Utd</td>\n",
       "      <td>14.233333</td>\n",
       "      <td>12.400000</td>\n",
       "      <td>8.633333</td>\n",
       "      <td>11.000000</td>\n",
       "    </tr>\n",
       "    <tr>\n",
       "      <th>15</th>\n",
       "      <td>Southampton</td>\n",
       "      <td>9.150000</td>\n",
       "      <td>14.150000</td>\n",
       "      <td>14.750000</td>\n",
       "      <td>10.487500</td>\n",
       "    </tr>\n",
       "    <tr>\n",
       "      <th>16</th>\n",
       "      <td>Spurs</td>\n",
       "      <td>11.020000</td>\n",
       "      <td>15.000000</td>\n",
       "      <td>10.233333</td>\n",
       "      <td>10.058333</td>\n",
       "    </tr>\n",
       "    <tr>\n",
       "      <th>17</th>\n",
       "      <td>West Brom</td>\n",
       "      <td>0.000000</td>\n",
       "      <td>1.500000</td>\n",
       "      <td>0.000000</td>\n",
       "      <td>0.000000</td>\n",
       "    </tr>\n",
       "    <tr>\n",
       "      <th>18</th>\n",
       "      <td>West Ham</td>\n",
       "      <td>11.642857</td>\n",
       "      <td>8.600000</td>\n",
       "      <td>6.575000</td>\n",
       "      <td>11.700000</td>\n",
       "    </tr>\n",
       "    <tr>\n",
       "      <th>19</th>\n",
       "      <td>Wolves</td>\n",
       "      <td>11.066667</td>\n",
       "      <td>5.700000</td>\n",
       "      <td>9.266667</td>\n",
       "      <td>12.400000</td>\n",
       "    </tr>\n",
       "  </tbody>\n",
       "</table>\n",
       "</div>"
      ],
      "text/plain": [
       "         team_name   Defender    Forward  Goalkeeper  Midfielder\n",
       "0          Arsenal   7.661538   9.050000   15.050000   10.592308\n",
       "1      Aston Villa   9.450000   4.500000    5.700000   12.977778\n",
       "2         Brighton   9.890000   9.875000   15.000000    9.225000\n",
       "3          Burnley  14.562500  13.900000   15.450000   12.016667\n",
       "4          Chelsea  11.650000   8.700000   10.300000    9.063636\n",
       "5   Crystal Palace  10.233333  10.966667   14.500000    9.145455\n",
       "6          Everton  11.457143  12.850000    7.800000    7.708333\n",
       "7           Fulham   0.000000   0.000000    0.000000    0.000000\n",
       "8            Leeds   0.000000   0.000000    0.000000    0.000000\n",
       "9        Leicester   8.670000  15.850000   14.200000   11.236364\n",
       "10       Liverpool  15.542857   9.366667   13.150000   11.253846\n",
       "11        Man City  11.410000  14.000000   12.300000   12.766667\n",
       "12         Man Utd   7.707692  11.950000   18.366667    8.842857\n",
       "13       Newcastle  10.263636   9.700000    9.533333   10.825000\n",
       "14   Sheffield Utd  14.233333  12.400000    8.633333   11.000000\n",
       "15     Southampton   9.150000  14.150000   14.750000   10.487500\n",
       "16           Spurs  11.020000  15.000000   10.233333   10.058333\n",
       "17       West Brom   0.000000   1.500000    0.000000    0.000000\n",
       "18        West Ham  11.642857   8.600000    6.575000   11.700000\n",
       "19          Wolves  11.066667   5.700000    9.266667   12.400000"
      ]
     },
     "execution_count": 22,
     "metadata": {},
     "output_type": "execute_result"
    }
   ],
   "source": [
    "temp.columns.name = None\n",
    "temp"
   ]
  },
  {
   "cell_type": "code",
   "execution_count": 23,
   "metadata": {
    "ExecuteTime": {
     "end_time": "2020-09-10T16:01:16.122680Z",
     "start_time": "2020-09-10T16:01:15.885265Z"
    }
   },
   "outputs": [],
   "source": [
    "team_cost_df = slim_elements_df.pivot_table(index='team_name',values='now_cost',aggfunc=np.sum).reset_index()\n",
    "team_points_df = slim_elements_df.pivot_table(index='team_name',values='total_points',aggfunc=np.sum).reset_index()\n",
    "ROI_df = slim_elements_df.pivot_table(index='team_name',values='ROI',aggfunc=np.mean).reset_index()\n",
    "ROI_df = ROI_df.merge(total_players,on='team_name',how='inner')"
   ]
  },
  {
   "cell_type": "code",
   "execution_count": 24,
   "metadata": {
    "ExecuteTime": {
     "end_time": "2020-09-10T16:01:18.245898Z",
     "start_time": "2020-09-10T16:01:16.123678Z"
    }
   },
   "outputs": [
    {
     "data": {
      "image/png": "[encoded data removed]",
      "text/plain": [
       "<Figure size 1800x1800 with 1 Axes>"
      ]
     },
     "metadata": {},
     "output_type": "display_data"
    }
   ],
   "source": [
    "index = list(team_cost_df['team_name'])\n",
    "df = pd.DataFrame({'FPL_Cost': list(team_cost_df['now_cost']),\n",
    "                   'Points': list(team_points_df['total_points'])}, index=index)\n",
    "ax = df.plot.bar(rot=0, figsize=(25,25))"
   ]
  },
  {
   "cell_type": "code",
   "execution_count": 25,
   "metadata": {
    "ExecuteTime": {
     "end_time": "2020-09-10T16:01:18.777419Z",
     "start_time": "2020-09-10T16:01:18.246895Z"
    }
   },
   "outputs": [
    {
     "data": {
      "image/png": "[encoded data removed]",
      "text/plain": [
       "<Figure size 720x720 with 1 Axes>"
      ]
     },
     "metadata": {},
     "output_type": "display_data"
    }
   ],
   "source": [
    "index = list(slim_elements_df['second_name'])\n",
    "df = pd.DataFrame({'Cost': list(slim_elements_df['now_cost']),\n",
    "                   'total_points': list(slim_elements_df['total_points'])}, index=index)\n",
    "ax = df.plot.scatter(y='total_points',x='Cost',figsize=(10,10))"
   ]
  },
  {
   "cell_type": "code",
   "execution_count": 26,
   "metadata": {
    "ExecuteTime": {
     "end_time": "2020-09-10T16:01:18.795679Z",
     "start_time": "2020-09-10T16:01:18.783257Z"
    }
   },
   "outputs": [],
   "source": [
    "player_dict = {}\n",
    "j=0\n",
    "player_name = list(slim_elements_df['second_name'])\n",
    "for i in slim_elements_df['code']:\n",
    "    player_dict[i] = player_name[j]\n",
    "    j+=1"
   ]
  },
  {
   "cell_type": "code",
   "execution_count": 27,
   "metadata": {
    "ExecuteTime": {
     "end_time": "2020-09-10T16:01:18.928162Z",
     "start_time": "2020-09-10T16:01:18.800166Z"
    }
   },
   "outputs": [],
   "source": [
    "def find_difficulty(slim_elements_df):\n",
    "    for player in list(slim_elements_df['second_name']):\n",
    "        team_name = slim_elements_df.loc[slim_elements_df['second_name'] == player,'team_name'].values[0]\n",
    "        game_week = 1\n",
    "        difficulty_values = fixtures[((fixtures['team_a'] == team_name) | (fixtures['team_h'] == team_name)) & (fixtures['event']<=game_week+4)]\n",
    "        home_diff = list(difficulty_values[difficulty_values['team_h'] == team_name]['team_h_difficulty'])\n",
    "        away_diff = list(difficulty_values[difficulty_values['team_a'] == team_name]['team_a_difficulty'])\n",
    "        if len(home_diff+away_diff) >= 5:\n",
    "            slim_elements_df.loc[slim_elements_df['second_name'] == player, 'UpcomingDifficulty'] = sum(home_diff+away_diff) "
   ]
  },
  {
   "cell_type": "code",
   "execution_count": 28,
   "metadata": {
    "ExecuteTime": {
     "end_time": "2020-09-10T16:01:46.557255Z",
     "start_time": "2020-09-10T16:01:18.933617Z"
    }
   },
   "outputs": [
    {
     "name": "stderr",
     "output_type": "stream",
     "text": [
      "C:\\ProgramData\\Anaconda3\\lib\\site-packages\\pandas\\core\\indexing.py:362: SettingWithCopyWarning: \n",
      "A value is trying to be set on a copy of a slice from a DataFrame.\n",
      "Try using .loc[row_indexer,col_indexer] = value instead\n",
      "\n",
      "See the caveats in the documentation: http://pandas.pydata.org/pandas-docs/stable/indexing.html#indexing-view-versus-copy\n",
      "  self.obj[key] = _infer_fill_value(value)\n",
      "C:\\ProgramData\\Anaconda3\\lib\\site-packages\\pandas\\core\\indexing.py:543: SettingWithCopyWarning: \n",
      "A value is trying to be set on a copy of a slice from a DataFrame.\n",
      "Try using .loc[row_indexer,col_indexer] = value instead\n",
      "\n",
      "See the caveats in the documentation: http://pandas.pydata.org/pandas-docs/stable/indexing.html#indexing-view-versus-copy\n",
      "  self.obj[item] = s\n",
      "C:\\ProgramData\\Anaconda3\\lib\\site-packages\\ipykernel_launcher.py:2: SettingWithCopyWarning: \n",
      "A value is trying to be set on a copy of a slice from a DataFrame.\n",
      "Try using .loc[row_indexer,col_indexer] = value instead\n",
      "\n",
      "See the caveats in the documentation: http://pandas.pydata.org/pandas-docs/stable/indexing.html#indexing-view-versus-copy\n",
      "  \n"
     ]
    }
   ],
   "source": [
    "find_difficulty(slim_elements_df)\n",
    "slim_elements_df['UpcomingDifficulty'] = slim_elements_df['UpcomingDifficulty'].fillna(value=50)"
   ]
  },
  {
   "cell_type": "code",
   "execution_count": 29,
   "metadata": {
    "ExecuteTime": {
     "end_time": "2020-09-10T16:01:46.570913Z",
     "start_time": "2020-09-10T16:01:46.557255Z"
    }
   },
   "outputs": [],
   "source": [
    "slim_elements_df = slim_elements_df[slim_elements_df['status'] == 'a']"
   ]
  },
  {
   "cell_type": "code",
   "execution_count": 30,
   "metadata": {
    "ExecuteTime": {
     "end_time": "2020-09-10T16:01:46.693236Z",
     "start_time": "2020-09-10T16:01:46.575709Z"
    },
    "code_folding": []
   },
   "outputs": [],
   "source": [
    "def select_player(res_df, optimal_player, cost, column_names):\n",
    "    res_df = res_df[res_df['now_cost'] == cost]\n",
    "    short_listed = {}\n",
    "    for player in list(res_df['code']): \n",
    "        short_listed[player] = 0\n",
    "    for column in column_names:\n",
    "        if (column == 'UpcomingDifficulty') or (column == 'goals_conceded'):\n",
    "            temp = res_df.sort_values(by=column,ascending=True).head(10)\n",
    "        else:\n",
    "            temp = res_df.sort_values(by=column,ascending=False).head(10)\n",
    "        temp.index = np.arange(1, len(temp) + 1)\n",
    "        for key in short_listed:\n",
    "            if key in list(temp['code']):\n",
    "                short_listed[key] += temp[temp['code'] == key].index.values[0]\n",
    "            else:\n",
    "                short_listed[key] += 11\n",
    "    if min(short_listed, key=short_listed.get) in optimal_player:\n",
    "        for i in range(1,len(short_listed)+1):\n",
    "            if(sorted(short_listed.items(), key=lambda x: x[1], reverse=False)[i][0]) in optimal_player:\n",
    "                continue\n",
    "            else:\n",
    "                return sorted(short_listed.items(), key=lambda x: x[1], reverse=False)[i][0]\n",
    "    else:\n",
    "        return min(short_listed, key=short_listed.get)"
   ]
  },
  {
   "cell_type": "code",
   "execution_count": 31,
   "metadata": {
    "ExecuteTime": {
     "end_time": "2020-09-10T16:01:46.788813Z",
     "start_time": "2020-09-10T16:01:46.693236Z"
    },
    "code_folding": []
   },
   "outputs": [],
   "source": [
    "def reduce_combinations(df):\n",
    "    cost_dict = dict()\n",
    "    for cost in df['now_cost']:\n",
    "        if cost in cost_dict:\n",
    "            cost_dict[cost] += 1\n",
    "        else:\n",
    "            cost_dict[cost] = 1\n",
    "    for cost in cost_dict:\n",
    "        if cost_dict[cost] > 5:\n",
    "            cost_dict[cost] = 5\n",
    "    lst = []\n",
    "    for cost in cost_dict:\n",
    "        for i in range(cost_dict[cost]):\n",
    "            lst.append(cost)\n",
    "    return lst"
   ]
  },
  {
   "cell_type": "code",
   "execution_count": 32,
   "metadata": {
    "ExecuteTime": {
     "end_time": "2020-09-10T16:01:46.870821Z",
     "start_time": "2020-09-10T16:01:46.793004Z"
    },
    "code_folding": []
   },
   "outputs": [],
   "source": [
    "def findCombinations(lst, budget, n): \n",
    "    return [pair for pair in combinations(lst, n) if sum(pair) == budget] "
   ]
  },
  {
   "cell_type": "code",
   "execution_count": 33,
   "metadata": {
    "ExecuteTime": {
     "end_time": "2020-09-10T16:01:46.980465Z",
     "start_time": "2020-09-10T16:01:46.871818Z"
    },
    "code_folding": []
   },
   "outputs": [],
   "source": [
    "def main_function(df, column_names, budget, n):\n",
    "    shortlisted_list = []\n",
    "    lst = reduce_combinations(df)\n",
    "    combined = findCombinations(lst, budget, n)\n",
    "    allowed_values = list(set(combined)) \n",
    "    sorted_values = []\n",
    "    for row in allowed_values:\n",
    "        sorted_values.append(sorted(row))\n",
    "    temp_set = set(tuple(x) for x in sorted_values)\n",
    "    unique_values = [list(x) for x in temp_set]\n",
    "    \n",
    "    for value in unique_values:\n",
    "        optimal_player = []\n",
    "        for cost in value:\n",
    "            choosen = select_player(df, optimal_player, cost, column_names)\n",
    "            optimal_player.append(choosen) \n",
    "        shortlisted_list.append(optimal_player)\n",
    "    return shortlisted_list"
   ]
  },
  {
   "cell_type": "code",
   "execution_count": 34,
   "metadata": {
    "ExecuteTime": {
     "end_time": "2020-09-10T16:01:47.063647Z",
     "start_time": "2020-09-10T16:01:46.980465Z"
    },
    "code_folding": []
   },
   "outputs": [],
   "source": [
    "def prepare_df(df, columns, shortlisted_list):\n",
    "    shortlisted_df = pd.DataFrame()\n",
    "    for row in shortlisted_list:\n",
    "        temp_df = pd.DataFrame()\n",
    "        for value in row:\n",
    "            temp_df = temp_df.append(df[df['code'] == value])\n",
    "        temp_df[columns] = temp_df[columns].apply(pd.to_numeric)\n",
    "        shortlisted_df = shortlisted_df.append(temp_df[columns].mean(), ignore_index=True)\n",
    "    shortlisted_df = shortlisted_df.reset_index()\n",
    "    return shortlisted_df"
   ]
  },
  {
   "cell_type": "code",
   "execution_count": 35,
   "metadata": {
    "ExecuteTime": {
     "end_time": "2020-09-10T16:01:47.198085Z",
     "start_time": "2020-09-10T16:01:47.065427Z"
    },
    "code_folding": []
   },
   "outputs": [],
   "source": [
    "def final_selected(shortlisted_df, columns):\n",
    "    res_df = shortlisted_df\n",
    "    short_listed = {}\n",
    "    optimal_players = []\n",
    "    for player in list(res_df.index): \n",
    "        short_listed[player]= 0\n",
    "    for column in column_names:\n",
    "        if (column == 'UpcomingDifficulty') or (column == 'goals_conceded'):\n",
    "            temp = res_df.sort_values(by=column,ascending=True).head(10)\n",
    "        else:\n",
    "            temp = res_df.sort_values(by=column,ascending=False).head(10)\n",
    "        temp.index = np.arange(1, len(temp) + 1)\n",
    "        for key in short_listed:\n",
    "            if key in list(temp['index']):\n",
    "                short_listed[key] += temp[temp['index'] == key].index.values[0]\n",
    "            else:\n",
    "                short_listed[key] += 11\n",
    "    if min(short_listed, key=short_listed.get) in optimal_players:\n",
    "        for i in range(1,len(short_listed)+1):\n",
    "            if(sorted(short_listed.items(), key=lambda x: x[1], reverse=False)[i][0]) in optimal_players:\n",
    "                continue\n",
    "            else:\n",
    "                optimal_players.append(sorted(short_listed.items(), key=lambda x: x[1], reverse=False)[i][0])\n",
    "    else:\n",
    "        optimal_players.append(min(short_listed, key=short_listed.get))\n",
    "    return optimal_players"
   ]
  },
  {
   "cell_type": "code",
   "execution_count": 36,
   "metadata": {
    "ExecuteTime": {
     "end_time": "2020-09-10T16:01:47.314259Z",
     "start_time": "2020-09-10T16:01:47.198085Z"
    },
    "code_folding": [
     0
    ]
   },
   "outputs": [],
   "source": [
    "def print_names(shortlisted_list,mvp):\n",
    "    for player in shortlisted_list[mvp[0]]:\n",
    "        print(player_dict[player])"
   ]
  },
  {
   "cell_type": "code",
   "execution_count": 37,
   "metadata": {
    "ExecuteTime": {
     "end_time": "2020-09-10T16:01:47.402370Z",
     "start_time": "2020-09-10T16:01:47.320716Z"
    }
   },
   "outputs": [],
   "source": [
    "fwd_df = slim_elements_df[slim_elements_df['position'] == 'Forward']\n",
    "mid_df = slim_elements_df[slim_elements_df['position'] == 'Midfielder']\n",
    "def_df = slim_elements_df[slim_elements_df['position'] == 'Defender']\n",
    "gk_df = slim_elements_df[slim_elements_df['position'] == 'Goalkeeper']"
   ]
  },
  {
   "cell_type": "code",
   "execution_count": 38,
   "metadata": {
    "ExecuteTime": {
     "end_time": "2020-09-10T16:01:47.501422Z",
     "start_time": "2020-09-10T16:01:47.402370Z"
    }
   },
   "outputs": [],
   "source": [
    "final_list = list()"
   ]
  },
  {
   "cell_type": "code",
   "execution_count": 39,
   "metadata": {
    "ExecuteTime": {
     "end_time": "2020-09-10T16:01:48.320364Z",
     "start_time": "2020-09-10T16:01:47.501422Z"
    }
   },
   "outputs": [
    {
     "name": "stdout",
     "output_type": "stream",
     "text": [
      "Ryan\n",
      "Pope\n"
     ]
    }
   ],
   "source": [
    "gk_df = gk_df.merge(elements_df[['code','clean_sheets','goals_conceded','penalties_saved','saves']],on=['code'], how='inner')\n",
    "column_names = ['total_points','ROI','PPM','clean_sheets','saves','UpcomingDifficulty']\n",
    "shortlisted_list = main_function(gk_df, column_names, 100, 2)\n",
    "\n",
    "columns = ['minutes','total_points','PPM','ROI','UpcomingDifficulty','form','clean_sheets','saves','goals_conceded']\n",
    "shortlisted_df = prepare_df(gk_df,columns, shortlisted_list)\n",
    "mvp = final_selected(shortlisted_df,columns)\n",
    "print_names(shortlisted_list, mvp)\n",
    "final_list.append(shortlisted_list[mvp[0]])"
   ]
  },
  {
   "cell_type": "code",
   "execution_count": 40,
   "metadata": {
    "ExecuteTime": {
     "end_time": "2020-09-10T16:03:50.549648Z",
     "start_time": "2020-09-10T16:01:48.326454Z"
    }
   },
   "outputs": [
    {
     "name": "stdout",
     "output_type": "stream",
     "text": [
      "Lundstram\n",
      "Pérez\n",
      "Grealish\n",
      "Borges Da Silva\n",
      "De Bruyne\n"
     ]
    }
   ],
   "source": [
    "mid_df = mid_df.merge(elements_df[['code','assists','ict_index','goals_scored']],on=['code'], how='inner')\n",
    "column_names = ['assists','ict_index','form','goals_scored','ROI','PPM','UpcomingDifficulty']\n",
    "shortlisted_list = main_function(mid_df, column_names, 385, 5)\n",
    "\n",
    "columns = ['minutes','total_points','PPM','ROI','UpcomingDifficulty','form','assists','ict_index','goals_scored']\n",
    "shortlisted_df = prepare_df(mid_df,columns,shortlisted_list)\n",
    "mvp = final_selected(shortlisted_df,columns)\n",
    "print_names(shortlisted_list, mvp)\n",
    "final_list.append(shortlisted_list[mvp[0]])"
   ]
  },
  {
   "cell_type": "code",
   "execution_count": 41,
   "metadata": {
    "ExecuteTime": {
     "end_time": "2020-09-10T16:04:17.464994Z",
     "start_time": "2020-09-10T16:03:50.553155Z"
    }
   },
   "outputs": [
    {
     "name": "stdout",
     "output_type": "stream",
     "text": [
      "Dunk\n",
      "Egan\n",
      "Basham\n",
      "Doherty\n",
      "van Dijk\n"
     ]
    }
   ],
   "source": [
    "def_df = def_df.merge(elements_df[['code','assists','clean_sheets','goals_conceded','goals_scored']],on=['code'], how='inner')\n",
    "column_names = ['assists','form','goals_scored','goals_conceded','clean_sheets','ROI','PPM','UpcomingDifficulty']\n",
    "shortlisted_list = main_function(def_df, column_names, 275, 5)\n",
    "\n",
    "columns = ['minutes','total_points','PPM','ROI','UpcomingDifficulty','form','assists','goals_conceded','goals_scored','clean_sheets']\n",
    "shortlisted_df = prepare_df(def_df,columns,shortlisted_list)\n",
    "mvp = final_selected(shortlisted_df,columns)\n",
    "print_names(shortlisted_list, mvp)\n",
    "final_list.append(shortlisted_list[mvp[0]])"
   ]
  },
  {
   "cell_type": "code",
   "execution_count": 42,
   "metadata": {
    "ExecuteTime": {
     "end_time": "2020-09-10T16:04:21.897139Z",
     "start_time": "2020-09-10T16:04:17.464994Z"
    }
   },
   "outputs": [
    {
     "name": "stdout",
     "output_type": "stream",
     "text": [
      "Maupay\n",
      "Ings\n",
      "Martial\n"
     ]
    }
   ],
   "source": [
    "fwd_df = fwd_df.merge(elements_df[['code','assists','ict_index','goals_scored']],on=['code'], how='inner')\n",
    "column_names = ['assists','ict_index','form','goals_scored','ROI','PPM','UpcomingDifficulty']\n",
    "shortlisted_list = main_function(fwd_df, column_names, 240, 3)\n",
    "\n",
    "columns = ['minutes','total_points','PPM','ROI','UpcomingDifficulty','form','assists','ict_index','goals_scored']\n",
    "shortlisted_df = prepare_df(fwd_df,columns,shortlisted_list)\n",
    "mvp = final_selected(shortlisted_df,columns)\n",
    "print_names(shortlisted_list, mvp)\n",
    "final_list.append(shortlisted_list[mvp[0]])"
   ]
  },
  {
   "cell_type": "code",
   "execution_count": 43,
   "metadata": {
    "ExecuteTime": {
     "end_time": "2020-09-10T16:04:21.913799Z",
     "start_time": "2020-09-10T16:04:21.899131Z"
    }
   },
   "outputs": [
    {
     "data": {
      "text/plain": [
       "[[131897, 98747],\n",
       " [153723, 168580, 114283, 47431, 61366],\n",
       " [83299, 108416, 40386, 87835, 97032],\n",
       " [115382, 84939, 148225]]"
      ]
     },
     "execution_count": 43,
     "metadata": {},
     "output_type": "execute_result"
    }
   ],
   "source": [
    "final_list"
   ]
  },
  {
   "cell_type": "code",
   "execution_count": 44,
   "metadata": {
    "ExecuteTime": {
     "end_time": "2020-09-10T16:04:22.283325Z",
     "start_time": "2020-09-10T16:04:21.920329Z"
    }
   },
   "outputs": [],
   "source": [
    "flat_list = [item for sublist in final_list for item in sublist]\n",
    "final_dict = {}"
   ]
  },
  {
   "cell_type": "code",
   "execution_count": 45,
   "metadata": {
    "ExecuteTime": {
     "end_time": "2020-09-10T16:04:22.518954Z",
     "start_time": "2020-09-10T16:04:22.292384Z"
    }
   },
   "outputs": [],
   "source": [
    "for player in flat_list:\n",
    "    if slim_elements_df[slim_elements_df['code'] == player]['team_name'].iloc[0] in final_dict:\n",
    "        final_dict[slim_elements_df[slim_elements_df['code'] == player]['team_name'].iloc[0]] += 1\n",
    "    else:\n",
    "        final_dict[slim_elements_df[slim_elements_df['code'] == player]['team_name'].iloc[0]] = 1"
   ]
  }
 ],
 "metadata": {
  "hide_input": false,
  "kernelspec": {
   "display_name": "Python 3",
   "language": "python",
   "name": "python3"
  },
  "language_info": {
   "codemirror_mode": {
    "name": "ipython",
    "version": 3
   },
   "file_extension": ".py",
   "mimetype": "text/x-python",
   "name": "python",
   "nbconvert_exporter": "python",
   "pygments_lexer": "ipython3",
   "version": "3.6.5"
  },
  "varInspector": {
   "cols": {
    "lenName": 16,
    "lenType": 16,
    "lenVar": 40
   },
   "kernels_config": {
    "python": {
     "delete_cmd_postfix": "",
     "delete_cmd_prefix": "del ",
     "library": "var_list.py",
     "varRefreshCmd": "print(var_dic_list())"
    },
    "r": {
     "delete_cmd_postfix": ") ",
     "delete_cmd_prefix": "rm(",
     "library": "var_list.r",
     "varRefreshCmd": "cat(var_dic_list()) "
    }
   },
   "types_to_exclude": [
    "module",
    "function",
    "builtin_function_or_method",
    "instance",
    "_Feature"
   ],
   "window_display": false
  }
 },
 "nbformat": 4,
 "nbformat_minor": 2
}
